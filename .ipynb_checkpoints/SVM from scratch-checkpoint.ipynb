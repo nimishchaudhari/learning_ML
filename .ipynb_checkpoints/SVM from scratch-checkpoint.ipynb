{
 "cells": [
  {
   "cell_type": "code",
   "execution_count": 7,
   "metadata": {},
   "outputs": [],
   "source": [
    "import matplotlib.pyplot as plt\n",
    "from matplotlib import style\n",
    "style.use('ggplot')\n",
    "import numpy as np\n",
    "import cvxopt as co"
   ]
  },
  {
   "cell_type": "code",
   "execution_count": null,
   "metadata": {},
   "outputs": [],
   "source": [
    "data_dict = {-1:np.array([[1,7],\n",
    "                        [2,8],\n",
    "                         3,8]),\n",
    "             \n",
    "             +1:np.array([[5,1],\n",
    "                         [6,-1],\n",
    "                         [7,3]])}"
   ]
  },
  {
   "cell_type": "code",
   "execution_count": 3,
   "metadata": {},
   "outputs": [],
   "source": [
    "class Support_Vector_Machine:\n",
    "    def __init__(self,visualization=True):\n",
    "        self.visualization=visualization\n",
    "        self.colors = {1:'r',-1:'b'}\n",
    "        if self.visualization:\n",
    "            self.fig = plt.figure()\n",
    "            self.ax = self.fig.add_subplot(1,1,1)\n",
    "    def fit(self,data):\n",
    "        self.data = data\n",
    "        #dictionary - ||W||:[w,b]\n",
    "        opt_dict = {}\n",
    "        \n",
    "        transforms = [ #To apply to W vector\n",
    "            [1,1],\n",
    "            [-1,1],\n",
    "            [1,-1],\n",
    "            [-1,-1]\n",
    "            ]\n",
    "        \n",
    "        all_data = []\n",
    "        \n",
    "        for yi in self.data:\n",
    "            for featureset in self.data[yi]:\n",
    "                for feature in featureset:\n",
    "                    all_data.append[feature]\n",
    "        self.max_feature_data = max[all_data]\n",
    "        self.min_feature_data = min[all_data]\n",
    "        all_data = None\n",
    "        step_sizes = [self.max_feature_data*0.1,\n",
    "                     self.max_feature_data*0.01,\n",
    "                     self.max_feature_data*0.001]\n",
    "        #Expensive\n",
    "        b_range_multiple = 5\n",
    "        b_multiple = 5\n",
    "        latest_optimum = self.max_feature_value*10\n",
    "        \n",
    "        for step in step_sizes:\n",
    "            w = np.array([latest_optimum,latest_optimum])\n",
    "            #Do this because Convex\n",
    "            optimized = False\n",
    "            \n",
    "            while not optimized:\n",
    "                for b in np.arange(-1*(self.max_feature_value*b_range_multiple),\n",
    "                                  (self.max_feature_value*b_range_multiple),step=b_multiple):\n",
    "                    for transformation in transforms:\n",
    "                        w_t = w*transformation\n",
    "            \n",
    "    \n",
    "    \n",
    "    \n",
    "    def predict(self,features):\n",
    "        #Sign of the X.W+b\n",
    "        classification = np.sign(np.dot(np.array(features),self.w)+self.b)\n",
    "        return classification\n",
    "    "
   ]
  },
  {
   "cell_type": "code",
   "execution_count": null,
   "metadata": {},
   "outputs": [],
   "source": []
  }
 ],
 "metadata": {
  "kernelspec": {
   "display_name": "Python 3",
   "language": "python",
   "name": "python3"
  },
  "language_info": {
   "codemirror_mode": {
    "name": "ipython",
    "version": 3
   },
   "file_extension": ".py",
   "mimetype": "text/x-python",
   "name": "python",
   "nbconvert_exporter": "python",
   "pygments_lexer": "ipython3",
   "version": "3.7.3"
  }
 },
 "nbformat": 4,
 "nbformat_minor": 2
}
